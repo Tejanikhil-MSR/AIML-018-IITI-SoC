{
 "cells": [
  {
   "cell_type": "code",
   "execution_count": 6,
   "metadata": {},
   "outputs": [],
   "source": [
    "import pathway as pw\n",
    "pets = pw.debug.table_from_markdown(\"owner pet \\n Alice dog \\n Bob cat \\n Alice cat\")"
   ]
  },
  {
   "cell_type": "markdown",
   "metadata": {},
   "source": [
    "### `API` endpoint as a `sink`"
   ]
  },
  {
   "cell_type": "code",
   "execution_count": null,
   "metadata": {},
   "outputs": [],
   "source": [
    "# Lets say we need to send the stream of the changes to particular endpoint then\n",
    "message_template_tokens = [\"owner={table.owner}\", \"pet={table.pet}\", \"time={table.time}\", \"diff={table.diff}\"]\n",
    "message_template = \"\\t\".join(message_template_tokens)\n",
    "pw.io.http.write(pets, \"http://www.example.com/api/event\", method=\"POST\", format=\"custom\", request_payload_template=message_template)"
   ]
  },
  {
   "cell_type": "markdown",
   "metadata": {},
   "source": [
    "### Pathway User-defined Functions (`UDF`)"
   ]
  },
  {
   "cell_type": "markdown",
   "metadata": {},
   "source": [
    "In Pathway, UDFs (User-Defined Functions) are one of the most powerful and essential tools they allow us to `inject custom logic` into the lazy and dataflow-driven model of computation."
   ]
  },
  {
   "cell_type": "code",
   "execution_count": null,
   "metadata": {},
   "outputs": [
    {
     "name": "stdout",
     "output_type": "stream",
     "text": [
      "res\n",
      "2\n",
      "12\n",
      "30\n"
     ]
    }
   ],
   "source": [
    "import time\n",
    "t = pw.debug.table_from_markdown('''a b \\n 1 2 \\n 3 4 \\n 5 6''')\n",
    "\n",
    "# pathway user defined functions\n",
    "@pw.udf(executor=pw.udfs.auto_executor())\n",
    "def long_running_function(a: int, b: int) -> int:\n",
    "    time.sleep(0.1)\n",
    "    return a * b\n",
    "\n",
    "result_2 = t.select(res=long_running_function(pw.this.a, pw.this.b))\n",
    "pw.debug.compute_and_print(result_2, include_id=False)"
   ]
  },
  {
   "cell_type": "code",
   "execution_count": 9,
   "metadata": {},
   "outputs": [
    {
     "name": "stdout",
     "output_type": "stream",
     "text": [
      "            | result\n",
      "^X1MXHYY... | 2.83\n",
      "^YYY4HAB... | 41.57\n",
      "^Z3QWT29... | 164.32\n"
     ]
    }
   ],
   "source": [
    "class VerySophisticatedUDF(pw.UDF):\n",
    "    exponent: float\n",
    "    def __init__(self, exponent: float) -> None:\n",
    "        super().__init__()\n",
    "        self.exponent = exponent\n",
    "    def __wrapped__(self, a: int, b: int) -> float:\n",
    "        intermediate = (a * b) ** self.exponent\n",
    "        return round(intermediate, 2)\n",
    "\n",
    "func = VerySophisticatedUDF(1.5)\n",
    "res = t.select(result=func(pw.this.a, t.b))\n",
    "pw.debug.compute_and_print(res, include_id=True)\n"
   ]
  },
  {
   "cell_type": "markdown",
   "metadata": {},
   "source": [
    "#### `Caching` at the udf level"
   ]
  },
  {
   "cell_type": "markdown",
   "metadata": {},
   "source": [
    "1. Pathway uses internal caching to avoid recomputing results when the same data and logic are used again. \\nl\n",
    "2. A `cache hit` happens when:\n",
    "    - Same input values (e.g., same string like \"teja\")\n",
    "    - Same function logic (UDF hasn't changed)\n",
    "    - Function is deterministic (i.e., no randomness or side effects)\n",
    "3. Pathway creates a cache key from: \n",
    "```cache_key = hash(function) + hash(input_values) + row_pointer_id```\n",
    "4. **Reference** : https://pathway.com/developers/api-docs/udfs#pathway.udfs.CacheStrategy"
   ]
  },
  {
   "cell_type": "code",
   "execution_count": null,
   "metadata": {},
   "outputs": [],
   "source": [
    "import time\n",
    "from pathway.internals.udfs.caches import DiskCache, InMemoryCache\n",
    "t = pw.debug.table_from_markdown('''a b \\n 1 2 \\n 3 4 \\n 5 6''')\n",
    "\n",
    "# pathway user defined functions\n",
    "@pw.udf(executor=pw.udfs.auto_executor(), cache_strategy=DiskCache)\n",
    "def long_running_function(a: int, b: int) -> int:\n",
    "    time.sleep(0.1)\n",
    "    return a * b\n",
    "\n",
    "result_2 = t.select(res=long_running_function(pw.this.a, pw.this.b))\n",
    "pw.debug.compute_and_print(result_2, include_id=False)"
   ]
  },
  {
   "cell_type": "markdown",
   "metadata": {},
   "source": [
    "### `Debugging` in pathway"
   ]
  },
  {
   "cell_type": "markdown",
   "metadata": {},
   "source": [
    "**Reference** : https://pathway.com/developers/api-docs/debug"
   ]
  },
  {
   "cell_type": "code",
   "execution_count": 12,
   "metadata": {},
   "outputs": [],
   "source": [
    "import pathway as pw\n",
    "t1 = pw.debug.table_from_markdown('''pet \\n Dog \\n Cat''')\n",
    "t2 = t1.select(animal=t1.pet, desc=\"fluffy\")"
   ]
  },
  {
   "cell_type": "code",
   "execution_count": 13,
   "metadata": {},
   "outputs": [
    {
     "name": "stdout",
     "output_type": "stream",
     "text": [
      "animal | desc\n",
      "Cat    | fluffy\n",
      "Dog    | fluffy\n"
     ]
    }
   ],
   "source": [
    "pw.debug.compute_and_print(t2, include_id=False)"
   ]
  },
  {
   "cell_type": "markdown",
   "metadata": {},
   "source": [
    "### Pathway Indexing (`RAG`)"
   ]
  },
  {
   "cell_type": "markdown",
   "metadata": {},
   "source": [
    "**Reference** : https://pathway.com/developers/api-docs/indexing"
   ]
  },
  {
   "cell_type": "markdown",
   "metadata": {},
   "source": [
    "### Pathway `DataTypes`"
   ]
  },
  {
   "cell_type": "markdown",
   "metadata": {},
   "source": [
    "1. `pw.this.id` - pw.ColumnReference\n",
    "2. `pw.apply(lambda x: x.upper(), pw.this.name)` - pw.ColumnExpression\n",
    "3. `unique row identity` - pw.Pointer\n",
    "4. `Schema` - pw.Schema"
   ]
  },
  {
   "cell_type": "markdown",
   "metadata": {},
   "source": [
    "### `Transformations` in pathway"
   ]
  },
  {
   "cell_type": "markdown",
   "metadata": {},
   "source": [
    "##### Performing the transformation using async calls \n",
    "Reference : https://pathway.com/developers/api-docs/pathway"
   ]
  },
  {
   "cell_type": "code",
   "execution_count": null,
   "metadata": {},
   "outputs": [
    {
     "name": "stdout",
     "output_type": "stream",
     "text": [
      "ret\n",
      "43\n",
      "45\n"
     ]
    }
   ],
   "source": [
    "import asyncio\n",
    "from typing import Any\n",
    "\n",
    "class OutputSchema(pw.Schema):\n",
    "   ret: int\n",
    "\n",
    "class AsyncIncrementTransformer(pw.AsyncTransformer.with_options(cache_strategy=DiskCache), output_schema=OutputSchema):\n",
    "    async def invoke(self, value) -> dict[str, Any]:\n",
    "        await asyncio.sleep(0.1)\n",
    "        return {\"ret\": value + 1 }\n",
    "\n",
    "input = pw.debug.table_from_markdown('''\n",
    "  | value\n",
    "1 | 42\n",
    "2 | 44\n",
    "''')\n",
    "\n",
    "result = AsyncIncrementTransformer(input_table=input).successful\n",
    "\n",
    "pw.debug.compute_and_print(result, include_id=False)\n"
   ]
  },
  {
   "cell_type": "markdown",
   "metadata": {},
   "source": [
    "##### Changing the datatype of the columns"
   ]
  },
  {
   "cell_type": "code",
   "execution_count": 18,
   "metadata": {},
   "outputs": [
    {
     "name": "stdout",
     "output_type": "stream",
     "text": [
      "result\n",
      "False\n",
      "True\n"
     ]
    }
   ],
   "source": [
    "import pandas as pd\n",
    "\n",
    "class InputSchema(pw.Schema):\n",
    "    data: dict\n",
    "\n",
    "dt = pd.DataFrame(data={\"data\": [{\"value\": True}, {\"value\": False}]})\n",
    "table = pw.debug.table_from_pandas(dt, schema=InputSchema)\n",
    "\n",
    "result = table.select(result=pw.this.data.get(\"value\").as_bool())\n",
    "\n",
    "pw.debug.compute_and_print(result, include_id=False)"
   ]
  },
  {
   "cell_type": "code",
   "execution_count": 19,
   "metadata": {},
   "outputs": [
    {
     "name": "stdout",
     "output_type": "stream",
     "text": [
      "result\n",
      "1.5\n",
      "3.14\n"
     ]
    }
   ],
   "source": [
    "dt = pd.DataFrame(data={\"data\": [{\"value\": 1.5}, {\"value\": 3.14}]})\n",
    "table = pw.debug.table_from_pandas(dt, schema=InputSchema)\n",
    "\n",
    "result = table.select(result=pw.this.data.get(\"value\").as_float())\n",
    "\n",
    "pw.debug.compute_and_print(result, include_id=False)"
   ]
  },
  {
   "cell_type": "code",
   "execution_count": 20,
   "metadata": {},
   "outputs": [],
   "source": [
    "# Similarly we has `.as_str()`, `.as_int()`, `to_string()`"
   ]
  },
  {
   "cell_type": "code",
   "execution_count": null,
   "metadata": {},
   "outputs": [],
   "source": []
  }
 ],
 "metadata": {
  "kernelspec": {
   "display_name": "iiti-bot",
   "language": "python",
   "name": "python3"
  },
  "language_info": {
   "codemirror_mode": {
    "name": "ipython",
    "version": 3
   },
   "file_extension": ".py",
   "mimetype": "text/x-python",
   "name": "python",
   "nbconvert_exporter": "python",
   "pygments_lexer": "ipython3",
   "version": "3.12.0"
  }
 },
 "nbformat": 4,
 "nbformat_minor": 2
}
