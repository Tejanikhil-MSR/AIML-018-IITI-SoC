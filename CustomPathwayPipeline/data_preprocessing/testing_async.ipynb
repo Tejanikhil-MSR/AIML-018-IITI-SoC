{
 "cells": [
  {
   "cell_type": "code",
   "execution_count": 1,
   "metadata": {},
   "outputs": [],
   "source": [
    "import os\n",
    "import asyncio\n",
    "import nest_asyncio\n",
    "import sys\n",
    "sys.path.append(\"../\")"
   ]
  },
  {
   "cell_type": "code",
   "execution_count": 2,
   "metadata": {},
   "outputs": [],
   "source": [
    "from config import config"
   ]
  },
  {
   "cell_type": "code",
   "execution_count": 3,
   "metadata": {},
   "outputs": [],
   "source": [
    "from pdf_summarizer import PDFSummarizer\n",
    "from langchain_community.chat_models import ChatOllama\n",
    "from langchain_core.prompts import ChatPromptTemplate\n",
    "from langchain_core.output_parsers import StrOutputParser\n",
    "from web_data_extractor_from_links import KnowledgeBaseUpdater"
   ]
  },
  {
   "cell_type": "code",
   "execution_count": 4,
   "metadata": {},
   "outputs": [],
   "source": [
    "# webdata_updater = KnowledgeBaseUpdater(text_files_directory=\"../Data/TextFiles\", pdf_files_directory=\"../Data/PDFFiles\")\n",
    "# webdata_updater.update(urls = [\"https://academic.iiti.ac.in/\"])"
   ]
  },
  {
   "cell_type": "code",
   "execution_count": null,
   "metadata": {},
   "outputs": [
    {
     "name": "stdout",
     "output_type": "stream",
     "text": [
      "--- Starting PDFSummarizer Test ---\n",
      "LLM Model initialized: mistral\n",
      "PDFSummarizer initialized. Output directory: ../Data/PDFFiles\n",
      "\n",
      "Attempting to summarize PDF: ../Data/PDFFiles/academic_iiti_ac_in_Advt-GATB_2025.pdf\n",
      "Warning: No languages specified, defaulting to English.\n"
     ]
    },
    {
     "name": "stderr",
     "output_type": "stream",
     "text": [
      "The `max_size` parameter is deprecated and will be removed in v4.26. Please specify in `size['longest_edge'] instead`.\n"
     ]
    },
    {
     "name": "stdout",
     "output_type": "stream",
     "text": [
      "[ERROR] Failed to extract PDF: CUDA error: CUDA-capable device(s) is/are busy or unavailable\n",
      "CUDA kernel errors might be asynchronously reported at some other API call, so the stacktrace below might be incorrect.\n",
      "For debugging consider passing CUDA_LAUNCH_BLOCKING=1\n",
      "Compile with `TORCH_USE_CUDA_DSA` to enable device-side assertions.\n",
      "\n",
      "\n",
      "Summarization returned no content (possibly due to error or empty PDF).\n",
      "\n",
      "--- PDFSummarizer Test Finished ---\n"
     ]
    }
   ],
   "source": [
    "async def test_multiple_pdfs_summarizer_async():\n",
    "    \"\"\"\n",
    "    Tests the asynchronous PDFSummarizer class with multiple PDFs concurrently.\n",
    "    \"\"\"\n",
    "    \n",
    "    print(\"--- Starting Multi-PDF Summarizer Test ---\")\n",
    "\n",
    "    try:\n",
    "        llm_model = ChatOllama(model=config.MODEL.MODEL_CHOICE, temperature=config.MODEL.GENERATION_ARGS['temperature'])\n",
    "        print(f\"LLM Model initialized: {config.MODEL.MODEL_CHOICE}\")\n",
    "    except Exception as e:\n",
    "        print(f\"Error initializing ChatOllama: {e}\")\n",
    "        print(\"Please ensure Ollama server is running and the model is pulled ('ollama pull mistral').\")\n",
    "        return\n",
    "\n",
    "    # Ensure the output directory exists for saving summaries\n",
    "    os.makedirs(config.DATA.PDF_DATA_DIR, exist_ok=True)\n",
    "    summarizer_instance = PDFSummarizer(model=llm_model, output_dir=config.DATA.PDF_DATA_DIR)\n",
    "    print(f\"PDFSummarizer initialized. Output directory: {config.DATA.PDF_DATA_DIR}\")\n",
    "\n",
    "    test_pdf_filenames = os.listdir(config.DATA.PDF_DATA_DIR)\n",
    "\n",
    "    pdf_paths_to_summarize = []\n",
    "    \n",
    "    for filename in test_pdf_filenames:\n",
    "        full_path = os.path.join(config.DATA.PDF_DATA_DIR, filename)\n",
    "        if os.path.exists(full_path):\n",
    "            pdf_paths_to_summarize.append(full_path)\n",
    "        else:\n",
    "            print(f\"\\n[WARNING] PDF not found: {full_path}. Skipping this file.\")\n",
    "\n",
    "    if not pdf_paths_to_summarize:\n",
    "        print(\"\\n[ERROR] No valid PDF files found to summarize. Please check paths.\")\n",
    "        return\n",
    "\n",
    "    print(f\"\\nAttempting to summarize {len(pdf_paths_to_summarize)} PDF(s)...\")\n",
    "\n",
    "    summarization_tasks = []\n",
    "    for pdf_path in pdf_paths_to_summarize:\n",
    "        print(f\"Adding task for: {os.path.basename(pdf_path)}\")\n",
    "        summarization_tasks.append(summarizer_instance.summarize_pdf(pdf_path, save_as=True))\n",
    "\n",
    "    try:\n",
    "        # asyncio.gather returns a list of results in the order the tasks were given\n",
    "        results = await asyncio.gather(*summarization_tasks, return_exceptions=True)\n",
    "        \n",
    "        print(\"\\n--- All Summarization Tasks Completed ---\")\n",
    "        for i, (pdf_path, result) in enumerate(zip(pdf_paths_to_summarize, results)):\n",
    "            pdf_filename = os.path.basename(pdf_path)\n",
    "            print(f\"\\n--- Result for {pdf_filename} ---\")\n",
    "            if isinstance(result, Exception):\n",
    "                print(f\"[ERROR] An error occurred: {result}\")\n",
    "                import traceback\n",
    "                traceback.print_exception(type(result), result, result.__traceback__) # Print full traceback for specific task error\n",
    "            elif result:\n",
    "                print(f\"Summary generated (first 500 chars):\\n{result[:500]}...\")\n",
    "                expected_output_path = os.path.join(\n",
    "                    config.DATA.PDF_DATA_DIR,\n",
    "                    f\"{os.path.splitext(pdf_filename)[0]}.txt\"\n",
    "                )\n",
    "                if os.path.exists(expected_output_path):\n",
    "                    print(f\"✅ Summary file saved to: {expected_output_path}\")\n",
    "                else:\n",
    "                    print(\"❌ Summary file was NOT created.\")\n",
    "            else:\n",
    "                print(\"Summarization returned no content.\")\n",
    "            \n",
    "    except Exception as e:\n",
    "        print(f\"\\n[CRITICAL ERROR] An unexpected error occurred during concurrent PDF summarization: {e}\")\n",
    "        import traceback\n",
    "        traceback.print_exc()\n",
    "\n",
    "    print(\"\\n--- Multi-PDF Summarizer Test Finished ---\")\n",
    "\n",
    "# Execute the asynchronous test function\n",
    "# Since nest_asyncio.apply() is at the top, we can just await directly.\n",
    "await test_multiple_pdfs_summarizer_async()"
   ]
  },
  {
   "cell_type": "code",
   "execution_count": null,
   "metadata": {},
   "outputs": [],
   "source": []
  }
 ],
 "metadata": {
  "kernelspec": {
   "display_name": "unstructured_env_310",
   "language": "python",
   "name": "python3"
  },
  "language_info": {
   "codemirror_mode": {
    "name": "ipython",
    "version": 3
   },
   "file_extension": ".py",
   "mimetype": "text/x-python",
   "name": "python",
   "nbconvert_exporter": "python",
   "pygments_lexer": "ipython3",
   "version": "3.10.14"
  }
 },
 "nbformat": 4,
 "nbformat_minor": 2
}
